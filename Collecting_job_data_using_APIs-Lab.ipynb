{
 "cells": [
  {
   "cell_type": "markdown",
   "metadata": {},
   "source": [
    "<p style=\"text-align:center\">\n",
    "    <a href=\"https://skills.network\" target=\"_blank\">\n",
    "    <img src=\"https://cf-courses-data.s3.us.cloud-object-storage.appdomain.cloud/assets/logos/SN_web_lightmode.png\" width=\"200\" alt=\"Skills Network Logo\">\n",
    "    </a>\n",
    "</p>\n"
   ]
  },
  {
   "cell_type": "markdown",
   "metadata": {},
   "source": [
    "# **Collecting Job Data Using APIs**\n"
   ]
  },
  {
   "cell_type": "markdown",
   "metadata": {},
   "source": [
    "Estimated time needed: **30** minutes\n"
   ]
  },
  {
   "cell_type": "markdown",
   "metadata": {},
   "source": [
    "## Objectives\n"
   ]
  },
  {
   "cell_type": "markdown",
   "metadata": {},
   "source": [
    "After completing this lab, you will be able to:\n"
   ]
  },
  {
   "cell_type": "markdown",
   "metadata": {},
   "source": [
    "*   Collect job data using Jobs API\n",
    "*   Store the collected data into an excel spreadsheet.\n"
   ]
  },
  {
   "cell_type": "markdown",
   "metadata": {},
   "source": [
    "><strong>Note: Before starting with the assignment make sure to read all the instructions and then move ahead with the coding part.</strong>\n"
   ]
  },
  {
   "cell_type": "markdown",
   "metadata": {},
   "source": [
    "#### Instructions\n"
   ]
  },
  {
   "cell_type": "markdown",
   "metadata": {},
   "source": [
    "To run the actual lab, firstly you need to click on the [Jobs_API](https://cf-courses-data.s3.us.cloud-object-storage.appdomain.cloud/IBM-DA0321EN-SkillsNetwork/labs/module%201/Accessing%20Data%20Using%20APIs/Jobs_API.ipynb) notebook link. The file contains flask code which is required to run the Jobs API data.\n",
    "\n",
    "Now, to run the code in the file that opens up follow the below steps.\n",
    "\n",
    "Step1: Download the file. \n",
    "\n",
    "Step2: Upload the file into your current Jupyter environment using the upload button in your Jupyter interface. Ensure that the file is in the same folder as your working .ipynb file.\n",
    "\n",
    "Step 2: If working in a local Jupyter environment, use the \"Upload\" button in your Jupyter interface to upload the Jobs_API notebook into the same folder as your current .ipynb file.\n",
    "\n",
    "<img src=\"https://cf-courses-data.s3.us.cloud-object-storage.appdomain.cloud/IBM-DA0321EN-SkillsNetwork/labs/module%201/Accessing%20Data%20Using%20APIs/Upload.PNG\">\n",
    "\n",
    "Step3:  Open the Jobs_API notebook, and run all the cells to start the Flask application. Once the server is running, you can access the API from the URL provided in the notebook.\n",
    "\n",
    "If you want to learn more about flask, which is optional, you can click on this link [here](https://cf-courses-data.s3.us.cloud-object-storage.appdomain.cloud/IBM-DA0321EN-SkillsNetwork/labs/module%201/Accessing%20Data%20Using%20APIs/FLASK_API.md.html).\n",
    "\n",
    "Once you run the flask code, you can start with your assignment.\n"
   ]
  },
  {
   "cell_type": "markdown",
   "metadata": {},
   "source": [
    "## Dataset Used in this Assignment\n",
    "\n",
    "The dataset used in this lab comes from the following source: https://www.kaggle.com/promptcloud/jobs-on-naukricom under the under a **Public Domain license**.\n",
    "\n",
    "> Note: We are using a modified subset of that dataset for the lab, so to follow the lab instructions successfully please use the dataset provided with the lab, rather than the dataset from the original source.\n",
    "\n",
    "The original dataset is a csv. We have converted the csv to json as per the requirement of the lab.\n"
   ]
  },
  {
   "cell_type": "markdown",
   "metadata": {},
   "source": [
    "## Warm-Up Exercise\n"
   ]
  },
  {
   "cell_type": "markdown",
   "metadata": {},
   "source": [
    "Before you attempt the actual lab, here is a fully solved warmup exercise that will help you to learn how to access an API.\n"
   ]
  },
  {
   "cell_type": "markdown",
   "metadata": {},
   "source": [
    "Using an API, let us find out who currently are on the International Space Station (ISS).<br> The API at [http://api.open-notify.org/astros.json](http://api.open-notify.org/astros.json?utm_medium=Exinfluencer&utm_source=Exinfluencer&utm_content=000026UJ&utm_term=10006555&utm_id=NA-SkillsNetwork-Channel-SkillsNetworkCoursesIBMDA0321ENSkillsNetwork21426264-2021-01-01&cm_mmc=Email_Newsletter-_-Developer_Ed%2BTech-_-WW_WW-_-SkillsNetwork-Courses-IBM-DA0321EN-SkillsNetwork-21426264&cm_mmca1=000026UJ&cm_mmca2=10006555&cm_mmca3=M12345678&cvosrc=email.Newsletter.M12345678&cvo_campaign=000026UJ) gives us the information of astronauts currently on ISS in json format.<br>\n",
    "You can read more about this API at [http://open-notify.org/Open-Notify-API/People-In-Space/](http://open-notify.org/Open-Notify-API/People-In-Space?utm_medium=Exinfluencer&utm_source=Exinfluencer&utm_content=000026UJ&utm_term=10006555&utm_id=NA-SkillsNetwork-Channel-SkillsNetworkCoursesIBMDA0321ENSkillsNetwork21426264-2021-01-01&cm_mmc=Email_Newsletter-_-Developer_Ed%2BTech-_-WW_WW-_-SkillsNetwork-Courses-IBM-DA0321EN-SkillsNetwork-21426264&cm_mmca1=000026UJ&cm_mmca2=10006555&cm_mmca3=M12345678&cvosrc=email.Newsletter.M12345678&cvo_campaign=000026UJ)\n"
   ]
  },
  {
   "cell_type": "code",
   "execution_count": 13,
   "metadata": {
    "tags": []
   },
   "outputs": [],
   "source": [
    "import requests # you need this module to make an API call\n",
    "import pandas as pd"
   ]
  },
  {
   "cell_type": "code",
   "execution_count": 14,
   "metadata": {
    "tags": []
   },
   "outputs": [],
   "source": [
    "api_url = \"http://api.open-notify.org/astros.json\" # this url gives use the astronaut data"
   ]
  },
  {
   "cell_type": "code",
   "execution_count": 15,
   "metadata": {
    "tags": []
   },
   "outputs": [],
   "source": [
    "response = requests.get(api_url) # Call the API using the get method and store the\n",
    "                                # output of the API call in a variable called response."
   ]
  },
  {
   "cell_type": "code",
   "execution_count": 16,
   "metadata": {
    "tags": []
   },
   "outputs": [],
   "source": [
    "if response.ok:             # if all is well() no errors, no network timeouts)\n",
    "    data = response.json()  # store the result in json format in a variable called data\n",
    "                            # the variable data is of type dictionary."
   ]
  },
  {
   "cell_type": "code",
   "execution_count": 17,
   "metadata": {
    "tags": []
   },
   "outputs": [
    {
     "name": "stdout",
     "output_type": "stream",
     "text": [
      "{'people': [{'craft': 'ISS', 'name': 'Oleg Kononenko'}, {'craft': 'ISS', 'name': 'Nikolai Chub'}, {'craft': 'ISS', 'name': 'Tracy Caldwell Dyson'}, {'craft': 'ISS', 'name': 'Matthew Dominick'}, {'craft': 'ISS', 'name': 'Michael Barratt'}, {'craft': 'ISS', 'name': 'Jeanette Epps'}, {'craft': 'ISS', 'name': 'Alexander Grebenkin'}, {'craft': 'ISS', 'name': 'Butch Wilmore'}, {'craft': 'ISS', 'name': 'Sunita Williams'}, {'craft': 'Tiangong', 'name': 'Li Guangsu'}, {'craft': 'Tiangong', 'name': 'Li Cong'}, {'craft': 'Tiangong', 'name': 'Ye Guangfu'}], 'number': 12, 'message': 'success'}\n"
     ]
    }
   ],
   "source": [
    "print(data)   # print the data just to check the output or for debugging"
   ]
  },
  {
   "cell_type": "markdown",
   "metadata": {},
   "source": [
    "Print the number of astronauts currently on ISS.\n"
   ]
  },
  {
   "cell_type": "code",
   "execution_count": 18,
   "metadata": {
    "tags": []
   },
   "outputs": [
    {
     "name": "stdout",
     "output_type": "stream",
     "text": [
      "12\n"
     ]
    }
   ],
   "source": [
    "print(data.get('number'))"
   ]
  },
  {
   "cell_type": "markdown",
   "metadata": {},
   "source": [
    "Print the names of the astronauts currently on ISS.\n"
   ]
  },
  {
   "cell_type": "code",
   "execution_count": 19,
   "metadata": {
    "tags": []
   },
   "outputs": [
    {
     "name": "stdout",
     "output_type": "stream",
     "text": [
      "There are 12 astronauts on ISS\n",
      "And their names are :\n",
      "Oleg Kononenko\n",
      "Nikolai Chub\n",
      "Tracy Caldwell Dyson\n",
      "Matthew Dominick\n",
      "Michael Barratt\n",
      "Jeanette Epps\n",
      "Alexander Grebenkin\n",
      "Butch Wilmore\n",
      "Sunita Williams\n",
      "Li Guangsu\n",
      "Li Cong\n",
      "Ye Guangfu\n"
     ]
    }
   ],
   "source": [
    "astronauts = data.get('people')\n",
    "print(\"There are {} astronauts on ISS\".format(len(astronauts)))\n",
    "print(\"And their names are :\")\n",
    "for astronaut in astronauts:\n",
    "    print(astronaut.get('name'))"
   ]
  },
  {
   "cell_type": "markdown",
   "metadata": {},
   "source": [
    "Hope the warmup was helpful. Good luck with your next lab!\n"
   ]
  },
  {
   "cell_type": "markdown",
   "metadata": {},
   "source": [
    "## Lab: Collect Jobs Data using Jobs API\n"
   ]
  },
  {
   "cell_type": "markdown",
   "metadata": {},
   "source": [
    "### Objective: Determine the number of jobs currently open for various technologies  and for various locations\n"
   ]
  },
  {
   "cell_type": "markdown",
   "metadata": {},
   "source": [
    "Collect the number of job postings for the following locations using the API:\n",
    "\n",
    "* Los Angeles\n",
    "* New York\n",
    "* San Francisco\n",
    "* Washington DC\n",
    "* Seattle\n",
    "* Austin\n",
    "* Detroit\n"
   ]
  },
  {
   "cell_type": "code",
   "execution_count": 1,
   "metadata": {
    "tags": []
   },
   "outputs": [
    {
     "name": "stdout",
     "output_type": "stream",
     "text": [
      "Requirement already satisfied: requests in /home/jupyterlab/conda/envs/python/lib/python3.7/site-packages (2.29.0)\n",
      "Requirement already satisfied: charset-normalizer<4,>=2 in /home/jupyterlab/conda/envs/python/lib/python3.7/site-packages (from requests) (3.1.0)\n",
      "Requirement already satisfied: idna<4,>=2.5 in /home/jupyterlab/conda/envs/python/lib/python3.7/site-packages (from requests) (3.4)\n",
      "Requirement already satisfied: urllib3<1.27,>=1.21.1 in /home/jupyterlab/conda/envs/python/lib/python3.7/site-packages (from requests) (1.26.15)\n",
      "Requirement already satisfied: certifi>=2017.4.17 in /home/jupyterlab/conda/envs/python/lib/python3.7/site-packages (from requests) (2023.5.7)\n",
      "Requirement already satisfied: pillow in /home/jupyterlab/conda/envs/python/lib/python3.7/site-packages (8.1.0)\n"
     ]
    }
   ],
   "source": [
    "#Import required libraries\n",
    "import pandas as pd\n",
    "import json\n",
    "!pip install requests\n",
    "!pip install pillow"
   ]
  },
  {
   "cell_type": "code",
   "execution_count": 2,
   "metadata": {
    "tags": []
   },
   "outputs": [],
   "source": [
    "import requests"
   ]
  },
  {
   "cell_type": "markdown",
   "metadata": {},
   "source": [
    "https://cf-courses-data.s3.us.cloud-object-storage.appdomain.cloud/IBM-DA0321EN-SkillsNetwork/labs/module%201/Accessing%20Data%20Using%20APIs/jobs.json#### Write a function to get the number of jobs for the Python technology.<br>\n",
    "> Note: While using the lab you need to pass the **payload** information for the **params** attribute in the form of **key** **value** pairs.\n",
    "  Refer the ungraded **rest api lab** in the course **Python for Data Science, AI & Development**  <a href=\"https://www.coursera.org/learn/python-for-applied-data-science-ai/ungradedLti/P6sW8/hands-on-lab-access-rest-apis-request-http?utm_medium=Exinfluencer&utm_source=Exinfluencer&utm_content=000026UJ&utm_term=10006555&utm_id=NA-SkillsNetwork-Channel-SkillsNetworkCoursesIBMDA0321ENSkillsNetwork928-2022-01-01\">link</a>\n",
    "  \n",
    " ##### The keys in the json are \n",
    " * Job Title\n",
    " \n",
    " * Job Experience Required\n",
    " \n",
    " * Key Skills\n",
    " \n",
    " * Role Category\n",
    " \n",
    " * Location\n",
    " \n",
    " * Functional Area\n",
    " \n",
    " * Industry\n",
    " \n",
    " * Role \n",
    " \n",
    "You can also view  the json file contents  from the following <a href = \"https://cf-courses-data.s3.us.cloud-object-storage.appdomain.cloud/IBM-DA0321EN-SkillsNetwork/labs/module%201/Accessing%20Data%20Using%20APIs/jobs.json\">json</a> URL.\n",
    "\n"
   ]
  },
  {
   "cell_type": "code",
   "execution_count": 4,
   "metadata": {
    "tags": []
   },
   "outputs": [],
   "source": [
    "api_url=\"https://cf-courses-data.s3.us.cloud-object-storage.appdomain.cloud/IBM-DA0321EN-SkillsNetwork/labs/module%201/Accessing%20Data%20Using%20APIs/jobs.json\"\n",
    "\n",
    "def get_number_of_jobs_T(technology):\n",
    "    #your code goes here\n",
    "    return technology,number_of_jobs\n",
    "    try:\n",
    "        # Make GET request to the API\n",
    "        response = requests.get(api_url)\n",
    "        response.raise_for_status()  # Raise exception for bad status codes\n",
    "        \n",
    "        # Parse JSON response\n",
    "        data = response.json()\n",
    "        \n",
    "        # Filter jobs for the specified technology\n",
    "        # Look for technology in Key Skills, Job Title, or Role\n",
    "        technology_jobs = []\n",
    "        for job in data:\n",
    "            key_skills = job.get('Key Skills', '').lower()\n",
    "            job_title = job.get('Job Title', '').lower()\n",
    "            role = job.get('Role', '').lower()\n",
    "            \n",
    "            if (technology.lower() in key_skills or \n",
    "                technology.lower() in job_title or \n",
    "                technology.lower() in role):\n",
    "                technology_jobs.append(job)\n",
    "        \n",
    "        number_of_jobs = len(technology_jobs)\n",
    "        return technology, number_of_jobs\n",
    "        \n",
    "    except requests.exceptions.RequestException as e:\n",
    "        print(f\"Error making API request: {e}\")\n",
    "        return technology, 0\n",
    "    except json.JSONDecodeError as e:\n",
    "        print(f\"Error parsing JSON response: {e}\")\n",
    "        return technology, 0"
   ]
  },
  {
   "cell_type": "markdown",
   "metadata": {},
   "source": [
    "Calling the function for Python and checking if it works.\n"
   ]
  },
  {
   "cell_type": "code",
   "execution_count": 6,
   "metadata": {
    "tags": []
   },
   "outputs": [
    {
     "data": {
      "text/plain": [
       "('Python', 1189)"
      ]
     },
     "execution_count": 6,
     "metadata": {},
     "output_type": "execute_result"
    }
   ],
   "source": [
    "import requests\n",
    "import json\n",
    "\n",
    "api_url=\"https://cf-courses-data.s3.us.cloud-object-storage.appdomain.cloud/IBM-DA0321EN-SkillsNetwork/labs/module%201/Accessing%20Data%20Using%20APIs/jobs.json\"\n",
    "\n",
    "def get_number_of_jobs_T(technology):\n",
    "    try:\n",
    "        # Make GET request to the API\n",
    "        response = requests.get(api_url)\n",
    "        response.raise_for_status()  # Raise an exception for bad status codes\n",
    "\n",
    "        # Parse JSON response\n",
    "        data = response.json()\n",
    "\n",
    "        # Filter jobs for the specified technology\n",
    "        technology_jobs = []\n",
    "        for job in data:\n",
    "            key_skills = job.get('Key Skills', '').lower()\n",
    "            job_title = job.get('Job Title', '').lower()\n",
    "            role = job.get('Role', '').lower()\n",
    "            \n",
    "            if (technology.lower() in key_skills or\n",
    "                technology.lower() in job_title or\n",
    "                technology.lower() in role):\n",
    "                technology_jobs.append(job)\n",
    "\n",
    "        number_of_jobs = len(technology_jobs)\n",
    "        return technology, number_of_jobs\n",
    "\n",
    "    except requests.exceptions.RequestException as e:\n",
    "        print(f\"Error making API request: {e}\")\n",
    "        return technology, 0\n",
    "    except json.JSONDecodeError as e:\n",
    "        print(f\"Error parsing JSON response: {e}\")\n",
    "        return technology, 0\n",
    "\n",
    "# Call the function for Python\n",
    "get_number_of_jobs_T(\"Python\")"
   ]
  },
  {
   "cell_type": "markdown",
   "metadata": {},
   "source": [
    "#### Write a function to find number of jobs in US for a location of your choice\n"
   ]
  },
  {
   "cell_type": "code",
   "execution_count": 7,
   "metadata": {
    "tags": []
   },
   "outputs": [
    {
     "name": "stdout",
     "output_type": "stream",
     "text": [
      "There are 435 jobs in San Francisco.\n",
      "There are 3226 jobs in New York.\n",
      "There are 1208 jobs in Dallas.\n"
     ]
    }
   ],
   "source": [
    " import requests\n",
    "import json\n",
    "\n",
    "# Define the API URL containing job data.\n",
    "# This URL is the same as the one used in the previous task.\n",
    "api_url=\"https://cf-courses-data.s3.us.cloud-object-storage.appdomain.cloud/IBM-DA0321EN-SkillsNetwork/labs/module%201/Accessing%20Data%20Using%20APIs/jobs.json\"\n",
    "\n",
    "def get_number_of_jobs_L(location):\n",
    "    \"\"\"\n",
    "    Counts the number of jobs available for a specific location in the US.\n",
    "\n",
    "    The function makes a GET request to a specified JSON API, filters the\n",
    "    jobs based on the provided location (case-insensitive), and returns the\n",
    "    total count.\n",
    "\n",
    "    Args:\n",
    "        location (str): The name of the location to search for.\n",
    "\n",
    "    Returns:\n",
    "        tuple: A tuple containing the location and the number of jobs found.\n",
    "               Returns 0 jobs if an error occurs.\n",
    "    \"\"\"\n",
    "    try:\n",
    "        # Make a GET request to the API\n",
    "        response = requests.get(api_url)\n",
    "        \n",
    "        # Raise an exception for bad status codes (e.g., 404 Not Found)\n",
    "        response.raise_for_status()\n",
    "\n",
    "        # Parse the JSON response into a Python list of dictionaries\n",
    "        data = response.json()\n",
    "        \n",
    "        # Initialize a counter for the number of jobs\n",
    "        number_of_jobs = 0\n",
    "        \n",
    "        # Iterate through each job entry in the data\n",
    "        for job in data:\n",
    "            # Get the 'Location' field, defaulting to an empty string if it doesn't exist.\n",
    "            # Convert both the job's location and the input location to lowercase\n",
    "            # for a case-insensitive comparison.\n",
    "            job_location = job.get('Location', '').lower()\n",
    "            \n",
    "            # Check if the provided location is present in the job's location string.\n",
    "            if location.lower() in job_location:\n",
    "                # If it's a match, increment the job counter\n",
    "                number_of_jobs += 1\n",
    "                \n",
    "        # Return the location and the final count of jobs\n",
    "        return location, number_of_jobs\n",
    "\n",
    "    except requests.exceptions.RequestException as e:\n",
    "        # Handle errors related to the API request (e.g., network issues)\n",
    "        print(f\"Error making API request: {e}\")\n",
    "        # Return 0 jobs in case of an error\n",
    "        return location, 0\n",
    "    except json.JSONDecodeError as e:\n",
    "        # Handle errors if the response is not a valid JSON\n",
    "        print(f\"Error parsing JSON response: {e}\")\n",
    "        # Return 0 jobs in case of an error\n",
    "        return location, 0\n",
    "\n",
    "# Example usage of the function. You can change \"San Francisco\" to any location.\n",
    "# Example 1: Check for \"San Francisco\"\n",
    "location, job_count = get_number_of_jobs_L(\"San Francisco\")\n",
    "print(f\"There are {job_count} jobs in {location}.\")\n",
    "\n",
    "# Example 2: Check for \"New York\"\n",
    "location, job_count = get_number_of_jobs_L(\"New York\")\n",
    "print(f\"There are {job_count} jobs in {location}.\")\n",
    "\n",
    "# Example 3: Check for \"Dallas\"\n",
    "location, job_count = get_number_of_jobs_L(\"Dallas\")\n",
    "print(f\"There are {job_count} jobs in {location}.\")"
   ]
  },
  {
   "cell_type": "markdown",
   "metadata": {},
   "source": [
    "Call the function for Los Angeles and check if it is working.\n"
   ]
  },
  {
   "cell_type": "code",
   "execution_count": 8,
   "metadata": {
    "tags": []
   },
   "outputs": [
    {
     "name": "stdout",
     "output_type": "stream",
     "text": [
      "There are 640 jobs in Los Angeles.\n"
     ]
    }
   ],
   "source": [
    "#your code goes here\n",
    "location, job_count = get_number_of_jobs_L(\"Los Angeles\")\n",
    "print(f\"There are {job_count} jobs in {location}.\")"
   ]
  },
  {
   "cell_type": "markdown",
   "metadata": {},
   "source": [
    "### Store the results in an excel file\n"
   ]
  },
  {
   "cell_type": "markdown",
   "metadata": {},
   "source": [
    "Call the API for all the given technologies above and write the results in an excel spreadsheet.\n"
   ]
  },
  {
   "cell_type": "markdown",
   "metadata": {},
   "source": [
    "If you do not know how create excel file using python, double click here for **hints**.\n",
    "\n",
    "<!--\n",
    "\n",
    "from openpyxl import Workbook        # import Workbook class from module openpyxl\n",
    "wb=Workbook()                        # create a workbook object\n",
    "ws=wb.active                         # use the active worksheet\n",
    "ws.append(['Country','Continent'])   # add a row with two columns 'Country' and 'Continent'\n",
    "ws.append(['Eygpt','Africa'])        # add a row with two columns 'Egypt' and 'Africa'\n",
    "ws.append(['India','Asia'])          # add another row\n",
    "ws.append(['France','Europe'])       # add another row\n",
    "wb.save(\"countries.xlsx\")            # save the workbook into a file called countries.xlsx\n",
    "\n",
    "\n",
    "-->\n"
   ]
  },
  {
   "cell_type": "markdown",
   "metadata": {},
   "source": [
    "Create a python list of all technologies for which you need to find the number of jobs postings.\n"
   ]
  },
  {
   "cell_type": "code",
   "execution_count": 10,
   "metadata": {
    "tags": []
   },
   "outputs": [
    {
     "name": "stdout",
     "output_type": "stream",
     "text": [
      "Collecting openpyxl\n",
      "  Downloading openpyxl-3.1.3-py2.py3-none-any.whl (251 kB)\n",
      "\u001b[2K     \u001b[90m━━━━━━━━━━━━━━━━━━━━━━━━━━━━━━━━━━━━━━━\u001b[0m \u001b[32m251.3/251.3 kB\u001b[0m \u001b[31m9.8 MB/s\u001b[0m eta \u001b[36m0:00:00\u001b[0m\n",
      "\u001b[?25hCollecting et-xmlfile (from openpyxl)\n",
      "  Downloading et_xmlfile-1.1.0-py3-none-any.whl (4.7 kB)\n",
      "Installing collected packages: et-xmlfile, openpyxl\n",
      "Successfully installed et-xmlfile-1.1.0 openpyxl-3.1.3\n"
     ]
    }
   ],
   "source": [
    "!pip install openpyxl"
   ]
  },
  {
   "cell_type": "code",
   "execution_count": 11,
   "metadata": {
    "tags": []
   },
   "outputs": [
    {
     "name": "stdout",
     "output_type": "stream",
     "text": [
      "Found 1189 jobs for Python.\n",
      "Found 3549 jobs for Java.\n",
      "Found 2254 jobs for JavaScript.\n",
      "Found 513 jobs for C++.\n",
      "Found 556 jobs for C#.\n",
      "Found 3231 jobs for SQL.\n",
      "Found 1319 jobs for Go.\n",
      "Found 89 jobs for Swift.\n",
      "Found 26917 jobs for R.\n",
      "Found 891 jobs for PHP.\n",
      "Successfully saved results to 'job_counts.xlsx'\n"
     ]
    }
   ],
   "source": [
    "#your code goes here\n",
    "import requests\n",
    "import json\n",
    "from openpyxl import Workbook\n",
    "\n",
    "# Define the API URL containing job data.\n",
    "api_url=\"https://cf-courses-data.s3.us.cloud-object-storage.appdomain.cloud/IBM-DA0321EN-SkillsNetwork/labs/module%201/Accessing%20Data%20Using%20APIs/jobs.json\"\n",
    "\n",
    "def get_number_of_jobs_T(technology):\n",
    "    \"\"\"\n",
    "    Counts the number of jobs for a specific technology.\n",
    "\n",
    "    The function makes a GET request to the API, filters the jobs based on\n",
    "    the provided technology (case-insensitive) across 'Key Skills', 'Job Title',\n",
    "    and 'Role', and returns the total count.\n",
    "\n",
    "    Args:\n",
    "        technology (str): The name of the technology to search for.\n",
    "\n",
    "    Returns:\n",
    "        tuple: A tuple containing the technology and the number of jobs found.\n",
    "               Returns 0 jobs if an error occurs.\n",
    "    \"\"\"\n",
    "    try:\n",
    "        # Make GET request to the API\n",
    "        response = requests.get(api_url)\n",
    "        response.raise_for_status()  # Raise exception for bad status codes\n",
    "        \n",
    "        # Parse JSON response\n",
    "        data = response.json()\n",
    "        \n",
    "        # Filter jobs for the specified technology\n",
    "        technology_jobs = []\n",
    "        for job in data:\n",
    "            key_skills = job.get('Key Skills', '').lower()\n",
    "            job_title = job.get('Job Title', '').lower()\n",
    "            role = job.get('Role', '').lower()\n",
    "            \n",
    "            if (technology.lower() in key_skills or\n",
    "                technology.lower() in job_title or\n",
    "                technology.lower() in role):\n",
    "                technology_jobs.append(job)\n",
    "        \n",
    "        number_of_jobs = len(technology_jobs)\n",
    "        return technology, number_of_jobs\n",
    "        \n",
    "    except requests.exceptions.RequestException as e:\n",
    "        print(f\"Error making API request: {e}\")\n",
    "        return technology, 0\n",
    "    except json.JSONDecodeError as e:\n",
    "        print(f\"Error parsing JSON response: {e}\")\n",
    "        return technology, 0\n",
    "\n",
    "def save_to_excel(results, filename=\"job_counts.xlsx\"):\n",
    "    \"\"\"\n",
    "    Saves a list of results to an Excel spreadsheet.\n",
    "\n",
    "    Args:\n",
    "        results (list): A list of tuples, where each tuple contains\n",
    "                        (technology, job_count).\n",
    "        filename (str): The name of the Excel file to save.\n",
    "    \"\"\"\n",
    "    try:\n",
    "        # Create a new workbook\n",
    "        wb = Workbook()\n",
    "        # Use the active worksheet\n",
    "        ws = wb.active\n",
    "        \n",
    "        # Set column headers\n",
    "        ws.append(['Technology', 'Number of Jobs'])\n",
    "        \n",
    "        # Append the results to the worksheet\n",
    "        for technology, job_count in results:\n",
    "            ws.append([technology, job_count])\n",
    "            \n",
    "        # Save the workbook\n",
    "        wb.save(filename)\n",
    "        print(f\"Successfully saved results to '{filename}'\")\n",
    "    except Exception as e:\n",
    "        print(f\"Error saving to Excel: {e}\")\n",
    "\n",
    "# Create a Python list of technologies to search for\n",
    "tech_list = [\n",
    "    \"Python\",\n",
    "    \"Java\",\n",
    "    \"JavaScript\",\n",
    "    \"C++\",\n",
    "    \"C#\",\n",
    "    \"SQL\",\n",
    "    \"Go\",\n",
    "    \"Swift\",\n",
    "    \"R\",\n",
    "    \"PHP\"\n",
    "]\n",
    "\n",
    "# Get the job counts for each technology\n",
    "all_tech_jobs = []\n",
    "for tech in tech_list:\n",
    "    tech_name, num_jobs = get_number_of_jobs_T(tech)\n",
    "    print(f\"Found {num_jobs} jobs for {tech_name}.\")\n",
    "    all_tech_jobs.append((tech_name, num_jobs))\n",
    "\n",
    "# Save the results to an Excel file\n",
    "save_to_excel(all_tech_jobs)\n"
   ]
  },
  {
   "cell_type": "markdown",
   "metadata": {},
   "source": [
    "Import libraries required to create excel spreadsheet\n"
   ]
  },
  {
   "cell_type": "code",
   "execution_count": 12,
   "metadata": {
    "tags": []
   },
   "outputs": [],
   "source": [
    "# your code goes here\n",
    "from openpyxl import Workbook"
   ]
  },
  {
   "cell_type": "markdown",
   "metadata": {},
   "source": [
    "Create a workbook and select the active worksheet\n"
   ]
  },
  {
   "cell_type": "code",
   "execution_count": 13,
   "metadata": {
    "tags": []
   },
   "outputs": [],
   "source": [
    "# your code goes here\n",
    "from openpyxl import Workbook\n",
    "\n",
    "# Create a workbook object\n",
    "wb = Workbook()\n",
    "\n",
    "# Use the active worksheet\n",
    "ws = wb.active\n",
    "\n",
    "# You can now use the 'ws' variable to write to the worksheet.\n",
    "# For example, to add a header row:\n",
    "ws.append(['Column 1', 'Column 2'])\n",
    "\n",
    "# To save the workbook, you would use:\n",
    "# wb.save(\"your_file_name.xlsx\")\n"
   ]
  },
  {
   "cell_type": "markdown",
   "metadata": {},
   "source": [
    "Find the number of jobs postings for each of the technology in the above list.\n",
    "Write the technology name and the number of jobs postings into the excel spreadsheet.\n"
   ]
  },
  {
   "cell_type": "code",
   "execution_count": 14,
   "metadata": {
    "tags": []
   },
   "outputs": [
    {
     "name": "stdout",
     "output_type": "stream",
     "text": [
      "Found 1189 jobs for Python.\n",
      "Found 3549 jobs for Java.\n",
      "Found 2254 jobs for JavaScript.\n",
      "Found 513 jobs for C++.\n",
      "Found 556 jobs for C#.\n",
      "Found 3231 jobs for SQL.\n",
      "Found 1319 jobs for Go.\n",
      "Found 89 jobs for Swift.\n",
      "Found 26917 jobs for R.\n",
      "Found 891 jobs for PHP.\n",
      "\n",
      "Successfully saved job counts to 'technology_job_counts.xlsx'\n"
     ]
    }
   ],
   "source": [
    "#your code goes here\n",
    "import requests\n",
    "import json\n",
    "from openpyxl import Workbook\n",
    "\n",
    "# Define the API URL containing job data.\n",
    "api_url=\"https://cf-courses-data.s3.us.cloud-object-storage.appdomain.cloud/IBM-DA0321EN-SkillsNetwork/labs/module%201/Accessing%20Data%20Using%20APIs/jobs.json\"\n",
    "\n",
    "def get_number_of_jobs_T(technology):\n",
    "    \"\"\"\n",
    "    Counts the number of jobs for a specific technology by calling an API.\n",
    "\n",
    "    The function makes a GET request to the API, filters the jobs based on\n",
    "    the provided technology (case-insensitive) across 'Key Skills', 'Job Title',\n",
    "    and 'Role', and returns the total count.\n",
    "\n",
    "    Args:\n",
    "        technology (str): The name of the technology to search for.\n",
    "\n",
    "    Returns:\n",
    "        tuple: A tuple containing the technology and the number of jobs found.\n",
    "               Returns 0 jobs if an error occurs.\n",
    "    \"\"\"\n",
    "    try:\n",
    "        # Make GET request to the API\n",
    "        response = requests.get(api_url)\n",
    "        response.raise_for_status()  # Raise exception for bad status codes\n",
    "        \n",
    "        # Parse JSON response\n",
    "        data = response.json()\n",
    "        \n",
    "        # Filter jobs for the specified technology\n",
    "        technology_jobs = []\n",
    "        for job in data:\n",
    "            key_skills = job.get('Key Skills', '').lower()\n",
    "            job_title = job.get('Job Title', '').lower()\n",
    "            role = job.get('Role', '').lower()\n",
    "            \n",
    "            if (technology.lower() in key_skills or\n",
    "                technology.lower() in job_title or\n",
    "                technology.lower() in role):\n",
    "                technology_jobs.append(job)\n",
    "        \n",
    "        number_of_jobs = len(technology_jobs)\n",
    "        return technology, number_of_jobs\n",
    "        \n",
    "    except requests.exceptions.RequestException as e:\n",
    "        print(f\"Error making API request: {e}\")\n",
    "        return technology, 0\n",
    "    except json.JSONDecodeError as e:\n",
    "        print(f\"Error parsing JSON response: {e}\")\n",
    "        return technology, 0\n",
    "\n",
    "# Create a Python list of technologies to search for\n",
    "tech_list = [\n",
    "    \"Python\",\n",
    "    \"Java\",\n",
    "    \"JavaScript\",\n",
    "    \"C++\",\n",
    "    \"C#\",\n",
    "    \"SQL\",\n",
    "    \"Go\",\n",
    "    \"Swift\",\n",
    "    \"R\",\n",
    "    \"PHP\"\n",
    "]\n",
    "\n",
    "# Get the job counts for each technology\n",
    "job_results = []\n",
    "for tech in tech_list:\n",
    "    tech_name, num_jobs = get_number_of_jobs_T(tech)\n",
    "    print(f\"Found {num_jobs} jobs for {tech_name}.\")\n",
    "    job_results.append((tech_name, num_jobs))\n",
    "\n",
    "# Create a new workbook and get the active worksheet\n",
    "wb = Workbook()\n",
    "ws = wb.active\n",
    "\n",
    "# Set column headers in the worksheet\n",
    "ws.append(['Technology', 'Number of Jobs'])\n",
    "\n",
    "# Append the results to the worksheet\n",
    "for technology, num_jobs in job_results:\n",
    "    ws.append([technology, num_jobs])\n",
    "    \n",
    "# Save the workbook into a file\n",
    "wb.save(\"technology_job_counts.xlsx\")\n",
    "print(\"\\nSuccessfully saved job counts to 'technology_job_counts.xlsx'\")"
   ]
  },
  {
   "cell_type": "markdown",
   "metadata": {},
   "source": [
    "Save into an excel spreadsheet named **job-postings.xlsx**.\n"
   ]
  },
  {
   "cell_type": "code",
   "execution_count": 15,
   "metadata": {
    "tags": []
   },
   "outputs": [
    {
     "name": "stdout",
     "output_type": "stream",
     "text": [
      "Found 1189 jobs for Python.\n",
      "Found 3549 jobs for Java.\n",
      "Found 2254 jobs for JavaScript.\n",
      "Found 513 jobs for C++.\n",
      "Found 556 jobs for C#.\n",
      "Found 3231 jobs for SQL.\n",
      "Found 1319 jobs for Go.\n",
      "Found 89 jobs for Swift.\n",
      "Found 26917 jobs for R.\n",
      "Found 891 jobs for PHP.\n",
      "\n",
      "Successfully saved job counts to 'job-postings.xlsx'\n"
     ]
    }
   ],
   "source": [
    "#your code goes here\n",
    "import requests\n",
    "import json\n",
    "from openpyxl import Workbook\n",
    "\n",
    "# Define the API URL containing job data.\n",
    "api_url=\"https://cf-courses-data.s3.us.cloud-object-storage.appdomain.cloud/IBM-DA0321EN-SkillsNetwork/labs/module%201/Accessing%20Data%20Using%20APIs/jobs.json\"\n",
    "\n",
    "def get_number_of_jobs_T(technology):\n",
    "    \"\"\"\n",
    "    Counts the number of jobs for a specific technology by calling an API.\n",
    "\n",
    "    The function makes a GET request to the API, filters the jobs based on\n",
    "    the provided technology (case-insensitive) across 'Key Skills', 'Job Title',\n",
    "    and 'Role', and returns the total count.\n",
    "\n",
    "    Args:\n",
    "        technology (str): The name of the technology to search for.\n",
    "\n",
    "    Returns:\n",
    "        tuple: A tuple containing the technology and the number of jobs found.\n",
    "               Returns 0 jobs if an error occurs.\n",
    "    \"\"\"\n",
    "    try:\n",
    "        # Make GET request to the API\n",
    "        response = requests.get(api_url)\n",
    "        response.raise_for_status()  # Raise exception for bad status codes\n",
    "        \n",
    "        # Parse JSON response\n",
    "        data = response.json()\n",
    "        \n",
    "        # Filter jobs for the specified technology\n",
    "        technology_jobs = []\n",
    "        for job in data:\n",
    "            key_skills = job.get('Key Skills', '').lower()\n",
    "            job_title = job.get('Job Title', '').lower()\n",
    "            role = job.get('Role', '').lower()\n",
    "            \n",
    "            if (technology.lower() in key_skills or\n",
    "                technology.lower() in job_title or\n",
    "                technology.lower() in role):\n",
    "                technology_jobs.append(job)\n",
    "        \n",
    "        number_of_jobs = len(technology_jobs)\n",
    "        return technology, number_of_jobs\n",
    "        \n",
    "    except requests.exceptions.RequestException as e:\n",
    "        print(f\"Error making API request: {e}\")\n",
    "        return technology, 0\n",
    "    except json.JSONDecodeError as e:\n",
    "        print(f\"Error parsing JSON response: {e}\")\n",
    "        return technology, 0\n",
    "\n",
    "# Create a Python list of technologies to search for\n",
    "tech_list = [\n",
    "    \"Python\",\n",
    "    \"Java\",\n",
    "    \"JavaScript\",\n",
    "    \"C++\",\n",
    "    \"C#\",\n",
    "    \"SQL\",\n",
    "    \"Go\",\n",
    "    \"Swift\",\n",
    "    \"R\",\n",
    "    \"PHP\"\n",
    "]\n",
    "\n",
    "# Get the job counts for each technology\n",
    "job_results = []\n",
    "for tech in tech_list:\n",
    "    tech_name, num_jobs = get_number_of_jobs_T(tech)\n",
    "    print(f\"Found {num_jobs} jobs for {tech_name}.\")\n",
    "    job_results.append((tech_name, num_jobs))\n",
    "\n",
    "# Create a new workbook and get the active worksheet\n",
    "wb = Workbook()\n",
    "ws = wb.active\n",
    "\n",
    "# Set column headers in the worksheet\n",
    "ws.append(['Technology', 'Number of Jobs'])\n",
    "\n",
    "# Append the results to the worksheet\n",
    "for technology, num_jobs in job_results:\n",
    "    ws.append([technology, num_jobs])\n",
    "    \n",
    "# Save the workbook into a file\n",
    "wb.save(\"job-postings.xlsx\")\n",
    "print(\"\\nSuccessfully saved job counts to 'job-postings.xlsx'\")"
   ]
  },
  {
   "cell_type": "markdown",
   "metadata": {},
   "source": [
    "#### In the similar way, you can try for below given technologies and results  can be stored in an excel sheet.\n"
   ]
  },
  {
   "cell_type": "markdown",
   "metadata": {},
   "source": [
    "Collect the number of job postings for the following languages using the API:\n",
    "\n",
    "*   C\n",
    "*   C#\n",
    "*   C++\n",
    "*   Java\n",
    "*   JavaScript\n",
    "*   Python\n",
    "*   Scala\n",
    "*   Oracle\n",
    "*   SQL Server\n",
    "*   MySQL Server\n",
    "*   PostgreSQL\n",
    "*   MongoDB\n"
   ]
  },
  {
   "cell_type": "code",
   "execution_count": 16,
   "metadata": {
    "tags": []
   },
   "outputs": [
    {
     "name": "stdout",
     "output_type": "stream",
     "text": [
      "Found 26218 jobs for C.\n",
      "Found 556 jobs for C#.\n",
      "Found 513 jobs for C++.\n",
      "Found 3549 jobs for Java.\n",
      "Found 2254 jobs for JavaScript.\n",
      "Found 1189 jobs for Python.\n",
      "Found 156 jobs for Scala.\n",
      "Found 931 jobs for Oracle.\n",
      "Found 431 jobs for SQL Server.\n",
      "Found 0 jobs for MySQL Server.\n",
      "Found 88 jobs for PostgreSQL.\n",
      "Found 210 jobs for MongoDB.\n",
      "\n",
      "Successfully saved job counts to 'job-postings.xlsx'\n"
     ]
    }
   ],
   "source": [
    "# your code goes here\n",
    "import requests\n",
    "import json\n",
    "from openpyxl import Workbook\n",
    "\n",
    "# Define the API URL containing job data.\n",
    "api_url=\"https://cf-courses-data.s3.us.cloud-object-storage.appdomain.cloud/IBM-DA0321EN-SkillsNetwork/labs/module%201/Accessing%20Data%20Using%20APIs/jobs.json\"\n",
    "\n",
    "def get_number_of_jobs_T(technology):\n",
    "    \"\"\"\n",
    "    Counts the number of jobs for a specific technology by calling an API.\n",
    "\n",
    "    The function makes a GET request to the API, filters the jobs based on\n",
    "    the provided technology (case-insensitive) across 'Key Skills', 'Job Title',\n",
    "    and 'Role', and returns the total count.\n",
    "\n",
    "    Args:\n",
    "        technology (str): The name of the technology to search for.\n",
    "\n",
    "    Returns:\n",
    "        tuple: A tuple containing the technology and the number of jobs found.\n",
    "               Returns 0 jobs if an error occurs.\n",
    "    \"\"\"\n",
    "    try:\n",
    "        # Make GET request to the API\n",
    "        response = requests.get(api_url)\n",
    "        response.raise_for_status()  # Raise exception for bad status codes\n",
    "        \n",
    "        # Parse JSON response\n",
    "        data = response.json()\n",
    "        \n",
    "        # Filter jobs for the specified technology\n",
    "        technology_jobs = []\n",
    "        for job in data:\n",
    "            key_skills = job.get('Key Skills', '').lower()\n",
    "            job_title = job.get('Job Title', '').lower()\n",
    "            role = job.get('Role', '').lower()\n",
    "            \n",
    "            if (technology.lower() in key_skills or\n",
    "                technology.lower() in job_title or\n",
    "                technology.lower() in role):\n",
    "                technology_jobs.append(job)\n",
    "        \n",
    "        number_of_jobs = len(technology_jobs)\n",
    "        return technology, number_of_jobs\n",
    "        \n",
    "    except requests.exceptions.RequestException as e:\n",
    "        print(f\"Error making API request: {e}\")\n",
    "        return technology, 0\n",
    "    except json.JSONDecodeError as e:\n",
    "        print(f\"Error parsing JSON response: {e}\")\n",
    "        return technology, 0\n",
    "\n",
    "# Create a Python list of technologies to search for\n",
    "tech_list = [\n",
    "    \"C\",\n",
    "    \"C#\",\n",
    "    \"C++\",\n",
    "    \"Java\",\n",
    "    \"JavaScript\",\n",
    "    \"Python\",\n",
    "    \"Scala\",\n",
    "    \"Oracle\",\n",
    "    \"SQL Server\",\n",
    "    \"MySQL Server\",\n",
    "    \"PostgreSQL\",\n",
    "    \"MongoDB\"\n",
    "]\n",
    "\n",
    "# Get the job counts for each technology\n",
    "job_results = []\n",
    "for tech in tech_list:\n",
    "    tech_name, num_jobs = get_number_of_jobs_T(tech)\n",
    "    print(f\"Found {num_jobs} jobs for {tech_name}.\")\n",
    "    job_results.append((tech_name, num_jobs))\n",
    "\n",
    "# Create a new workbook and get the active worksheet\n",
    "wb = Workbook()\n",
    "ws = wb.active\n",
    "\n",
    "# Set column headers in the worksheet\n",
    "ws.append(['Technology', 'Number of Jobs'])\n",
    "\n",
    "# Append the results to the worksheet\n",
    "for technology, num_jobs in job_results:\n",
    "    ws.append([technology, num_jobs])\n",
    "    \n",
    "# Save the workbook into a file\n",
    "wb.save(\"job-postings.xlsx\")\n",
    "print(\"\\nSuccessfully saved job counts to 'job-postings.xlsx'\")\n"
   ]
  },
  {
   "cell_type": "markdown",
   "metadata": {},
   "source": [
    "## Authors\n"
   ]
  },
  {
   "cell_type": "markdown",
   "metadata": {},
   "source": [
    "Ayushi Jain\n"
   ]
  },
  {
   "cell_type": "markdown",
   "metadata": {},
   "source": [
    "### Other Contributors\n"
   ]
  },
  {
   "cell_type": "markdown",
   "metadata": {},
   "source": [
    "Rav Ahuja\n",
    "\n",
    "Lakshmi Holla\n",
    "\n",
    "Malika\n"
   ]
  },
  {
   "cell_type": "markdown",
   "metadata": {},
   "source": [
    "Copyright © IBM Corporation.\n"
   ]
  },
  {
   "cell_type": "markdown",
   "metadata": {},
   "source": [
    "<!--## Change Log\n"
   ]
  },
  {
   "cell_type": "markdown",
   "metadata": {},
   "source": [
    "<!--| Date (YYYY-MM-DD) | Version | Changed By        | Change Description                 |\n",
    "| ----------------- | ------- | ----------------- | ---------------------------------- | \n",
    "| 2022-01-19        | 0.3     | Lakshmi Holla        | Added changes in the markdown      |\n",
    "| 2021-06-25        | 0.2     | Malika            | Updated GitHub job json link       |\n",
    "| 2020-10-17        | 0.1     | Ramesh Sannareddy | Created initial version of the lab |--!>\n"
   ]
  }
 ],
 "metadata": {
  "kernelspec": {
   "display_name": "Python",
   "language": "python",
   "name": "conda-env-python-py"
  },
  "language_info": {
   "codemirror_mode": {
    "name": "ipython",
    "version": 3
   },
   "file_extension": ".py",
   "mimetype": "text/x-python",
   "name": "python",
   "nbconvert_exporter": "python",
   "pygments_lexer": "ipython3",
   "version": "3.7.12"
  },
  "prev_pub_hash": "61a35a07ad98492b710274ae0e52a0fdce2221e88e366133dd4a20370680fa8f"
 },
 "nbformat": 4,
 "nbformat_minor": 4
}
