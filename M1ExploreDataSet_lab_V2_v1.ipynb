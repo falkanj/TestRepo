{
  "cells": [
    {
      "cell_type": "markdown",
      "metadata": {
        "id": "89bfa067-56b6-4d3e-a97a-c66addd39c4a"
      },
      "source": [
        "<p style=\"text-align:center\">\n",
        "    <a href=\"https://skills.network\" target=\"_blank\">\n",
        "    <img src=\"https://cf-courses-data.s3.us.cloud-object-storage.appdomain.cloud/assets/logos/SN_web_lightmode.png\" width=\"200\" alt=\"Skills Network Logo\"  />\n",
        "    </a>\n",
        "</p>\n"
      ]
    },
    {
      "cell_type": "markdown",
      "metadata": {
        "id": "76d119a8-428d-4afb-bb94-197b0c06855b"
      },
      "source": [
        "# **Lab: Exploring the Dataset**\n"
      ]
    },
    {
      "cell_type": "markdown",
      "metadata": {
        "id": "aa243b43-06a8-4e77-85ee-852eb34b6320"
      },
      "source": [
        "Estimated time needed: **30** minutes\n"
      ]
    },
    {
      "cell_type": "markdown",
      "metadata": {
        "id": "64004590-bf67-4bea-a15f-b73e39df1291"
      },
      "source": [
        "## Introduction\n"
      ]
    },
    {
      "cell_type": "markdown",
      "metadata": {
        "id": "18cd8a50-a2e6-45d1-afa4-478c9d57c203"
      },
      "source": [
        "Data exploration is the initial phase of data analysis where we aim to understand the data's characteristics, identify patterns, and uncover potential insights. It is a crucial step that helps us make informed decisions about subsequent analysis.\n"
      ]
    },
    {
      "cell_type": "markdown",
      "metadata": {
        "id": "df168251-baa2-4206-852f-d2dcbc1ac64d"
      },
      "source": [
        "## Objectives\n"
      ]
    },
    {
      "cell_type": "markdown",
      "metadata": {
        "id": "46d5ecb9-e0d4-4092-b6e5-4c09d2434d3c"
      },
      "source": [
        "After completing this lab, you will be able to:\n"
      ]
    },
    {
      "cell_type": "markdown",
      "metadata": {
        "id": "1153cb0c-00af-43e8-a987-e99b2d0f6d5c"
      },
      "source": [
        "-   Summarize the key characteristics of a dataset.\n",
        "-   Identify different data types commonly used in data analysis.\n"
      ]
    },
    {
      "cell_type": "markdown",
      "metadata": {
        "id": "e60f9752-5938-419b-b51e-e5bf0841f140"
      },
      "source": [
        "## Load the dataset\n"
      ]
    },
    {
      "cell_type": "markdown",
      "metadata": {
        "id": "bf53d08e-bf58-49ce-8953-bb761f102c3e"
      },
      "source": [
        "Import the required libraries.\n"
      ]
    },
    {
      "cell_type": "code",
      "metadata": {
        "colab": {
          "base_uri": "https://localhost:8080/"
        },
        "id": "16412d09-4bb0-46c1-bb2d-97036a6ed9bd",
        "outputId": "b13b0a6c-c1bf-4cdd-ea60-c0c524ff2749"
      },
      "outputs": [
        {
          "output_type": "stream",
          "name": "stdout",
          "text": [
            "2.2.2\n"
          ]
        }
      ],
      "source": [
        "# Import pandas after installation\n",
        "import pandas as pd\n",
        "print(pd.__version__)"
      ],
      "execution_count": 2
    },
    {
      "cell_type": "code",
      "metadata": {
        "id": "37e8417e"
      },
      "source": [
        "import requests\n",
        "\n",
        "async def download(url, filename):\n",
        "    response = requests.get(url)\n",
        "    if response.status_code == 200:\n",
        "        with open(filename, \"wb\") as f:\n",
        "            f.write(response.content)"
      ],
      "execution_count": 4,
      "outputs": []
    },
    {
      "cell_type": "code",
      "source": [
        "file_path = \"https://cf-courses-data.s3.us.cloud-object-storage.appdomain.cloud/n01PQ9pSmiRX6520flujwQ/survey-data.csv\""
      ],
      "metadata": {
        "id": "JNdq9aPuTKR9"
      },
      "execution_count": 5,
      "outputs": []
    },
    {
      "cell_type": "markdown",
      "metadata": {
        "id": "848f49cf-f61b-4aad-ae04-3267f0c6c797"
      },
      "source": [
        "The dataset is available on the IBM Cloud at the below url.\n"
      ]
    },
    {
      "cell_type": "code",
      "metadata": {
        "id": "a0953716-5679-4261-9f2f-f55594b39822"
      },
      "outputs": [],
      "source": [
        "dataset_url = \"https://cf-courses-data.s3.us.cloud-object-storage.appdomain.cloud/n01PQ9pSmiRX6520flujwQ/survey-data.csv\""
      ],
      "execution_count": 6
    },
    {
      "cell_type": "code",
      "source": [
        "await download(file_path, \"survey_data.csv\")\n",
        "file_name=\"survey_data.csv\""
      ],
      "metadata": {
        "id": "-1r3aej_TQ2q"
      },
      "execution_count": 7,
      "outputs": []
    },
    {
      "cell_type": "code",
      "source": [
        "df = pd.read_csv(file_name)"
      ],
      "metadata": {
        "id": "8c5xNLCGTVKS"
      },
      "execution_count": 8,
      "outputs": []
    },
    {
      "cell_type": "markdown",
      "metadata": {
        "id": "23cd4740-8a85-4a5d-b370-bd78242c527b"
      },
      "source": [
        "Load the data available at dataset_url into a dataframe.\n"
      ]
    },
    {
      "cell_type": "code",
      "metadata": {
        "id": "3d0a3e50-ba3c-45eb-8b7c-a2f37878560c"
      },
      "outputs": [],
      "source": [
        "## Write your code here\n",
        "df = pd.read_csv(dataset_url)"
      ],
      "execution_count": 10
    },
    {
      "cell_type": "markdown",
      "metadata": {
        "id": "51069905-ea7c-4ac5-9e62-d35d4b86296c"
      },
      "source": [
        "## Explore the dataset\n"
      ]
    },
    {
      "cell_type": "markdown",
      "metadata": {
        "id": "cfc080f2-2dd9-45cc-a80a-61ac90a9ac76"
      },
      "source": [
        "It is a good idea to print the top 5 rows of the dataset to get a feel of how the dataset will look.\n"
      ]
    },
    {
      "cell_type": "markdown",
      "metadata": {
        "id": "b0c5d7ac-5ff4-408c-bc24-e90785a8cd0f"
      },
      "source": [
        "Display the top 5 rows and columns from your dataset.\n"
      ]
    },
    {
      "cell_type": "code",
      "metadata": {
        "colab": {
          "base_uri": "https://localhost:8080/"
        },
        "id": "b1d46fea-59ff-4bb2-9df3-a9e45b03aab2",
        "outputId": "a7de6980-9044-4d49-e6af-f50e03fc6ab6"
      },
      "outputs": [
        {
          "output_type": "stream",
          "name": "stdout",
          "text": [
            "--- Top 5 rows of the dataset ---\n",
            "   ResponseId                      MainBranch                 Age  \\\n",
            "0           1  I am a developer by profession  Under 18 years old   \n",
            "1           2  I am a developer by profession     35-44 years old   \n",
            "2           3  I am a developer by profession     45-54 years old   \n",
            "3           4           I am learning to code     18-24 years old   \n",
            "4           5  I am a developer by profession     18-24 years old   \n",
            "\n",
            "            Employment RemoteWork   Check  \\\n",
            "0  Employed, full-time     Remote  Apples   \n",
            "1  Employed, full-time     Remote  Apples   \n",
            "2  Employed, full-time     Remote  Apples   \n",
            "3   Student, full-time        NaN  Apples   \n",
            "4   Student, full-time        NaN  Apples   \n",
            "\n",
            "                                    CodingActivities  \\\n",
            "0                                              Hobby   \n",
            "1  Hobby;Contribute to open-source projects;Other...   \n",
            "2  Hobby;Contribute to open-source projects;Other...   \n",
            "3                                                NaN   \n",
            "4                                                NaN   \n",
            "\n",
            "                                             EdLevel  \\\n",
            "0                          Primary/elementary school   \n",
            "1       Bachelor’s degree (B.A., B.S., B.Eng., etc.)   \n",
            "2    Master’s degree (M.A., M.S., M.Eng., MBA, etc.)   \n",
            "3  Some college/university study without earning ...   \n",
            "4  Secondary school (e.g. American high school, G...   \n",
            "\n",
            "                                           LearnCode  \\\n",
            "0                             Books / Physical media   \n",
            "1  Books / Physical media;Colleague;On the job tr...   \n",
            "2  Books / Physical media;Colleague;On the job tr...   \n",
            "3  Other online resources (e.g., videos, blogs, f...   \n",
            "4  Other online resources (e.g., videos, blogs, f...   \n",
            "\n",
            "                                     LearnCodeOnline  ... JobSatPoints_6  \\\n",
            "0                                                NaN  ...            NaN   \n",
            "1  Technical documentation;Blogs;Books;Written Tu...  ...            0.0   \n",
            "2  Technical documentation;Blogs;Books;Written Tu...  ...            NaN   \n",
            "3  Stack Overflow;How-to videos;Interactive tutorial  ...            NaN   \n",
            "4  Technical documentation;Blogs;Written Tutorial...  ...            NaN   \n",
            "\n",
            "  JobSatPoints_7 JobSatPoints_8 JobSatPoints_9 JobSatPoints_10  \\\n",
            "0            NaN            NaN            NaN             NaN   \n",
            "1            0.0            0.0            0.0             0.0   \n",
            "2            NaN            NaN            NaN             NaN   \n",
            "3            NaN            NaN            NaN             NaN   \n",
            "4            NaN            NaN            NaN             NaN   \n",
            "\n",
            "  JobSatPoints_11           SurveyLength SurveyEase ConvertedCompYearly JobSat  \n",
            "0             NaN                    NaN        NaN                 NaN    NaN  \n",
            "1             0.0                    NaN        NaN                 NaN    NaN  \n",
            "2             NaN  Appropriate in length       Easy                 NaN    NaN  \n",
            "3             NaN               Too long       Easy                 NaN    NaN  \n",
            "4             NaN              Too short       Easy                 NaN    NaN  \n",
            "\n",
            "[5 rows x 114 columns]\n"
          ]
        }
      ],
      "source": [
        "## Write your code here\n",
        "print(\"--- Top 5 rows of the dataset ---\")\n",
        "print(df.head())"
      ],
      "execution_count": 11
    },
    {
      "cell_type": "markdown",
      "metadata": {
        "id": "f432eb89-e6cf-42a9-a842-840f24e8d19b"
      },
      "source": [
        "## Find out the number of rows and columns\n"
      ]
    },
    {
      "cell_type": "markdown",
      "metadata": {
        "id": "5b2e6eae-1b8b-4ae9-a8a4-59c6153dabd2"
      },
      "source": [
        "Start by exploring the numbers of rows and columns of data in the dataset.\n"
      ]
    },
    {
      "cell_type": "markdown",
      "metadata": {
        "id": "b08524b5-1ac5-4da9-aedc-6595ce90e8c7"
      },
      "source": [
        "Print the number of rows in the dataset.\n"
      ]
    },
    {
      "cell_type": "code",
      "metadata": {
        "colab": {
          "base_uri": "https://localhost:8080/"
        },
        "id": "950af894-41e2-40c8-96aa-856278e0a466",
        "outputId": "e863735c-f621-4d2b-f4e1-8b1082be36c4"
      },
      "outputs": [
        {
          "output_type": "stream",
          "name": "stdout",
          "text": [
            "\n",
            "--- Number of rows ---\n",
            "65437\n"
          ]
        }
      ],
      "source": [
        "## Write your code here\n",
        "num_rows = df.shape[0]\n",
        "print(\"\\n--- Number of rows ---\")\n",
        "print(num_rows)"
      ],
      "execution_count": 12
    },
    {
      "cell_type": "markdown",
      "metadata": {
        "id": "9acf3ad3-d055-47b2-8fda-29c59d02f723"
      },
      "source": [
        "Print the number of columns in the dataset.\n"
      ]
    },
    {
      "cell_type": "code",
      "metadata": {
        "colab": {
          "base_uri": "https://localhost:8080/"
        },
        "id": "eea9aaaa-f7d1-49f8-aea4-16ad92e77c12",
        "outputId": "a6129f26-10fa-4707-a1a4-8177ba6b77ed"
      },
      "outputs": [
        {
          "output_type": "stream",
          "name": "stdout",
          "text": [
            "\n",
            "--- Number of columns ---\n",
            "114\n"
          ]
        }
      ],
      "source": [
        "## Write your code here\n",
        "num_cols = df.shape[1]\n",
        "print(\"\\n--- Number of columns ---\")\n",
        "print(num_cols)"
      ],
      "execution_count": 13
    },
    {
      "cell_type": "markdown",
      "metadata": {
        "id": "8177fa73-34b9-42e3-a252-a20e29bd72cd"
      },
      "source": [
        "## Identify the data types of each column\n"
      ]
    },
    {
      "cell_type": "markdown",
      "metadata": {
        "id": "2f615916-db9f-4461-ad25-9ec04c1ca58a"
      },
      "source": [
        "Explore the dataset and identify the data types of each column.\n"
      ]
    },
    {
      "cell_type": "markdown",
      "metadata": {
        "id": "94bd44db-96c3-4576-b24d-42f81ca64592"
      },
      "source": [
        "Print the datatype of all columns.\n"
      ]
    },
    {
      "cell_type": "code",
      "metadata": {
        "colab": {
          "base_uri": "https://localhost:8080/"
        },
        "id": "db5b9d85-f83b-4a3e-8578-0bee2d25595b",
        "outputId": "60b639b2-79b4-403f-e350-d315345b8e9b"
      },
      "outputs": [
        {
          "output_type": "stream",
          "name": "stdout",
          "text": [
            "\n",
            "--- Data types of each column ---\n",
            "ResponseId               int64\n",
            "MainBranch              object\n",
            "Age                     object\n",
            "Employment              object\n",
            "RemoteWork              object\n",
            "                        ...   \n",
            "JobSatPoints_11        float64\n",
            "SurveyLength            object\n",
            "SurveyEase              object\n",
            "ConvertedCompYearly    float64\n",
            "JobSat                 float64\n",
            "Length: 114, dtype: object\n"
          ]
        }
      ],
      "source": [
        "## Write your code here\n",
        "print(\"\\n--- Data types of each column ---\")\n",
        "print(df.dtypes)"
      ],
      "execution_count": 14
    },
    {
      "cell_type": "markdown",
      "metadata": {
        "id": "cc3092ca-63f2-4762-854f-b46a02d0b8ee"
      },
      "source": [
        "Print the mean age of the survey participants.\n"
      ]
    },
    {
      "cell_type": "code",
      "metadata": {
        "colab": {
          "base_uri": "https://localhost:8080/"
        },
        "id": "9ece8b48-c838-43a5-b169-778d564a895f",
        "outputId": "a671f501-b5c9-42f6-c67c-36adc676bd94"
      },
      "outputs": [
        {
          "output_type": "stream",
          "name": "stdout",
          "text": [
            "\n",
            "--- Mean age of survey participants ---\n",
            "32.9880288719957\n"
          ]
        }
      ],
      "source": [
        "## Write your code here\n",
        "# Map age ranges to numerical midpoints\n",
        "age_mapping = {\n",
        "    'Under 18 years old': 17,  # Assuming midpoint of ages less than 18\n",
        "    '18-24 years old': 21,\n",
        "    '25-34 years old': 29.5,\n",
        "    '35-44 years old': 39.5,\n",
        "    '45-54 years old': 49.5,\n",
        "    '55-64 years old': 59.5,\n",
        "    '65 years or older': 65, # Assuming 65 as a representative age\n",
        "    'Prefer not to say': None # Treat 'Prefer not to say' as missing value\n",
        "}\n",
        "\n",
        "df['Age_numeric'] = df['Age'].map(age_mapping)\n",
        "\n",
        "# Calculate the mean of the numeric age column, ignoring missing values\n",
        "mean_age = df['Age_numeric'].mean()\n",
        "\n",
        "print(\"\\n--- Mean age of survey participants ---\")\n",
        "print(mean_age)"
      ],
      "execution_count": 16
    },
    {
      "cell_type": "markdown",
      "metadata": {
        "id": "d632815f-0998-478c-b499-528c4130747a"
      },
      "source": [
        "The dataset is the result of a world wide survey. Print how many unique countries are there in the Country column.\n"
      ]
    },
    {
      "cell_type": "code",
      "metadata": {
        "colab": {
          "base_uri": "https://localhost:8080/"
        },
        "id": "20bc4981-ef14-4f25-867e-98d7e05b1fdd",
        "outputId": "ecf8bfd3-2aff-4441-b7d6-7cf691620513"
      },
      "outputs": [
        {
          "output_type": "stream",
          "name": "stdout",
          "text": [
            "\n",
            "--- Number of unique countries ---\n",
            "185\n"
          ]
        }
      ],
      "source": [
        "## Write your code here\n",
        "unique_countries = df['Country'].nunique()\n",
        "print(\"\\n--- Number of unique countries ---\")\n",
        "print(unique_countries)"
      ],
      "execution_count": 17
    },
    {
      "cell_type": "markdown",
      "metadata": {
        "id": "c5dda6e0-de5d-45d6-8066-98623c4b5ced"
      },
      "source": [
        "<!--\n",
        "## Change Log\n",
        "|Date (YYYY-MM-DD)|Version|Changed By|Change Description|\n",
        "|-|-|-|-|\n",
        "|2024-10-29|3.0|Madhusudhan|Updated lab|\n",
        "|2024-09-23|2.0|Madhusudhan|Updated lab|\n",
        "|2024-09-22|1.0|Raghul Ramesh|Created lab|\n",
        "--!>\n"
      ]
    },
    {
      "cell_type": "markdown",
      "metadata": {
        "id": "1338b7f0-806e-45d1-98c5-61bf8911f6cc"
      },
      "source": [
        "Copyright ©  IBM Corporation. All rights reserved.\n"
      ]
    }
  ],
  "metadata": {
    "kernelspec": {
      "display_name": "Python 3 (ipykernel)",
      "language": "python",
      "name": "python3"
    },
    "language_info": {
      "codemirror_mode": {
        "name": "ipython",
        "version": 3
      },
      "file_extension": ".py",
      "mimetype": "text/x-python",
      "name": "python",
      "nbconvert_exporter": "python",
      "pygments_lexer": "ipython3",
      "version": "3.11.9"
    },
    "prev_pub_hash": "bedd3aee3a13510f42e8f2d452448a778151a18ce4b7e4d854c4c56f9dea7a3b",
    "colab": {
      "provenance": []
    }
  },
  "nbformat": 4,
  "nbformat_minor": 0
}